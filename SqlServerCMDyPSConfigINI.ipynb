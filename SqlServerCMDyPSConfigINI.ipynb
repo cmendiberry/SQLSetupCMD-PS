{
    "metadata": {
        "kernelspec": {
            "name": "powershell",
            "display_name": "PowerShell",
            "language": "powershell"
        },
        "language_info": {
            "name": "powershell",
            "codemirror_mode": "shell",
            "mimetype": "text/x-sh",
            "file_extension": ".ps1"
        }
    },
    "nbformat_minor": 2,
    "nbformat": 4,
    "cells": [
        {
            "cell_type": "markdown",
            "source": [
                "# Instalación Desatendida de SQL Server\n",
                "\n",
                "## Puesta a punto\n",
                "\n",
                "Este archivo esta configurado para hacer la instalación de un SQL Server Stand alone\n",
                "\n",
                "### Directorio\n",
                "\n",
                "Se crean las carpetas a usar por el SQL Server (teniendo en cuenta ls recursos disponibles en el servidor), el recurso compartido para la extracción del bak, se asigna permiso al usuario do\\bkpsuser que levanta los bak para mantener la estructura aph.\n",
                "\n",
                "### Puerto 1433\n",
                "\n",
                "Se habilita el puerto para permitir conexiones al SQL Server"
            ],
            "metadata": {
                "azdata_cell_guid": "9c4c8c5a-615a-444b-be6d-1be436a0250d"
            }
        },
        {
            "cell_type": "code",
            "source": [
                "[string]$usuario = Read-Host -Prompt \"Ingrese el nombre de usuario\"\r\n",
                "$passdo = Read-Host -Prompt \"Ingrese la contraseña del usuario\" -AsSecureString\r\n",
                "$credo = New-Object -TypeName System.Management.Automation.PSCredential ($usuario, $passdo)\r\n",
                "\r\n",
                "Invoke-Command -ComputerName \"SQLTESTDBA\" -Credential $credo -ScriptBlock{ `\r\n",
                "New-Item -Path 'D:\\BDs' -ItemType \"directory\" \r\n",
                "New-Item -Path 'E:\\Backups' -ItemType \"directory\"\r\n",
                "New-Item -Path 'E:\\Backups\\Diario' -ItemType \"directory\"\r\n",
                "New-Item -Path 'E:\\Tempdb' -ItemType \"directory\"\r\n",
                "\r\n",
                "New-SmbShare -Name  \"Diario\" -Path \"E:\\Backups\\Diario\" -FullAccess \"dominio\\bkpsuser\"\r\n",
                "\r\n",
                "New-NetFirewallRule -DisplayName \"AllowSQLConn\" -Direction Inbound -LocalPort 1433 -Protocol TCP -Action Allow} "
            ],
            "metadata": {
                "azdata_cell_guid": "fdf6de43-202a-492a-bb57-88babead0b28"
            },
            "outputs": [],
            "execution_count": null
        },
        {
            "cell_type": "markdown",
            "source": [
                "# Instalación de SQL Server desde CMD\n",
                "\n",
                "Tener en cuenta para el archivo configuration.ini lo siguiente:\n",
                "\n",
                "- Cuenta de Servicio del motor: dominio\\cuentaServicioSQL\n",
                "    \n",
                "- Cuenta de servicio del agente: dominio\\cuentaAgenteSQL\n",
                "    \n",
                "- Autenticación Mixta.\n",
                "    \n",
                "- Agregar usuario sysadmin: dominio\\cuentasysadmin (no current user)\n",
                "    \n",
                "- Mapear las carpetas creadas en pasos previos.\n",
                "    \n",
                "- Collation: SQL_Latin1_General_CP850_CI_AI\n",
                "    \n",
                "- MAXDOP, Memoria y Temp cantidades sugeridas por el instalador (se pueden modificar luego)\n",
                "    \n",
                "- TempDB: indicar carpeta de archivos"
            ],
            "metadata": {
                "azdata_cell_guid": "efd2ce4d-2553-4d26-8340-ded6f49c0f3d"
            }
        },
        {
            "cell_type": "markdown",
            "source": [
                "Con el archivo ConfigurationFile.ini configurado según las necesidades, ejecutar en un cmd elevado, ubicado en donde se encuentre montada la imagen de SQL Server:\n",
                "\n",
                "Setup.exe /PID=\"Licencia\" /IACCEPTSQLSERVERLICENSETERMS /SAPWD=\"**********\" /SQLSYSADMINACCOUNTS=\"do\\sqlsadm\" /SQLSVCPASSWORD=\"***********\" /AGTSVCPASSWORD=\"**************\" /ConfigurationFile=\"C:\\Conf\\ConfigurationFileTest.ini\""
            ],
            "metadata": {
                "azdata_cell_guid": "27a1b109-5f2b-4d04-bd99-a6f32091534b"
            }
        },
        {
            "cell_type": "markdown",
            "source": [
                "## ConfigurationFile ejemplo: \n",
                "\n",
                ";SQL Server 2019 Configuration File\n",
                "\n",
                "[OPTIONS]\n",
                "\n",
                "; By specifying this parameter and accepting Microsoft R Open and Microsoft R Server terms, you acknowledge that you have read and understood the terms of use.\n",
                "\n",
                "IACCEPTPYTHONLICENSETERMS=\"False\"\n",
                "\n",
                "; Specifies a Setup work flow, like INSTALL, UNINSTALL, or UPGRADE. This is a required parameter.\n",
                "\n",
                "ACTION=\"Install\"\n",
                "\n",
                "; By specifying this parameter and accepting Microsoft R Open and Microsoft R Server terms, you acknowledge that you have read and understood the terms of use.\n",
                "\n",
                "IACCEPTROPENLICENSETERMS=\"False\"\n",
                "\n",
                "; Specifies that SQL Server Setup should not display the privacy statement when ran from the command line.\n",
                "\n",
                "SUPPRESSPRIVACYSTATEMENTNOTICE=\"False\"\n",
                "\n",
                "; Use the /ENU parameter to install the English version of SQL Server on your localized Windows operating system.\n",
                "\n",
                "ENU=\"True\"\n",
                "\n",
                "; Setup will not display any user interface.\n",
                "\n",
                "QUIET=\"False\"\n",
                "\n",
                "; Setup will display progress only, without any user interaction.\n",
                "\n",
                "QUIETSIMPLE=\"True\"\n",
                "\n",
                "; Parameter that controls the user interface behavior. Valid values are Normal for the full UI,AutoAdvance for a simplied UI, and EnableUIOnServerCore for bypassing Server Core setup GUI block.\n",
                "\n",
                ";UIMODE=\"Normal\"\n",
                "\n",
                "; Specify whether SQL Server Setup should discover and include product updates. The valid values are True and False or 1 and 0. By default SQL Server Setup will include updates that are found.\n",
                "\n",
                "UpdateEnabled=\"True\"\n",
                "\n",
                "; If this parameter is provided, then this computer will use Microsoft Update to check for updates.\n",
                "\n",
                "USEMICROSOFTUPDATE=\"False\"\n",
                "\n",
                "; Specifies that SQL Server Setup should not display the paid edition notice when ran from the command line.\n",
                "\n",
                "SUPPRESSPAIDEDITIONNOTICE=\"False\"\n",
                "\n",
                "; Specify the location where SQL Server Setup will obtain product updates. The valid values are \"MU\" to search Microsoft Update, a valid folder path, a relative path such as .\\MyUpdates or a UNC share. By default SQL Server Setup will search Microsoft Update or a Windows Update service through the Window Server Update Services.\n",
                "\n",
                "UpdateSource=\"MU\"\n",
                "\n",
                "; Specifies features to install, uninstall, or upgrade. The list of top-level features include SQL, AS, IS, MDS, and Tools. The SQL feature will install the Database Engine, Replication, Full-Text, and Data Quality Services (DQS) server. The Tools feature will install shared components.\n",
                "\n",
                "FEATURES=SQLENGINE,FULLTEXT,CONN,IS,BC,SDK,SNAC_SDK\n",
                "\n",
                "; Displays the command line parameters usage\n",
                "\n",
                "HELP=\"False\"\n",
                "\n",
                "; Specifies that the detailed Setup log should be piped to the console.\n",
                "\n",
                "INDICATEPROGRESS=\"False\"\n",
                "\n",
                "; Specifies that Setup should install into WOW64. This command line argument is not supported on an IA64 or a 32-bit system.\n",
                "\n",
                "X86=\"False\"\n",
                "\n",
                "; Specify a default or named instance. MSSQLSERVER is the default instance for non-Express editions and SQLExpress for Express editions. This parameter is required when installing the SQL Server Database Engine (SQL), or Analysis Services (AS).\n",
                "\n",
                "INSTANCENAME=\"MSSQLSERVER\"\n",
                "\n",
                "; Specify the root installation directory for shared components. This directory remains unchanged after shared components are already installed.\n",
                "\n",
                "INSTALLSHAREDDIR=\"C:\\Program Files\\Microsoft SQL Server\"\n",
                "\n",
                "; Specify the root installation directory for the WOW64 shared components. This directory remains unchanged after WOW64 shared components are already installed.\n",
                "\n",
                "INSTALLSHAREDWOWDIR=\"C:\\Program Files (x86)\\Microsoft SQL Server\"\n",
                "\n",
                "; Specify the Instance ID for the SQL Server features you have specified. SQL Server directory structure, registry structure, and service names will incorporate the instance ID of the SQL Server instance.\n",
                "\n",
                "INSTANCEID=\"MSSQLSERVER\"\n",
                "\n",
                "; TelemetryUserNameConfigDescription\n",
                "\n",
                ";SQLTELSVCACCT=\"NT Service\\SQLTELEMETRY$SQL2019\"\n",
                "\n",
                "; TelemetryStartupConfigDescription\n",
                "\n",
                "SQLTELSVCSTARTUPTYPE=\"Disabled\"\n",
                "\n",
                "; TelemetryStartupConfigDescription\n",
                "\n",
                ";ISTELSVCSTARTUPTYPE=\"Disabled\"\n",
                "\n",
                "; TelemetryUserNameConfigDescription\n",
                "\n",
                ";ISTELSVCACCT=\"NT Service\\SSISTELEMETRY150\"\n",
                "\n",
                "; Specify the installation directory.\n",
                "\n",
                "INSTANCEDIR=\"C:\\Program Files\\Microsoft SQL Server\"\n",
                "\n",
                "; Agent account name\n",
                "\n",
                "AGTSVCACCOUNT=<strong>\"Dominio\\cuentaAgenteSQL\"</strong>\n",
                "\n",
                "; Auto-start service after installation.\n",
                "\n",
                "AGTSVCSTARTUPTYPE=<strong>\"Automatic\"</strong>\n",
                "\n",
                "; Startup type for Integration Services.\n",
                "\n",
                "ISSVCSTARTUPTYPE=<strong>\"Automatic\"</strong>\n",
                "\n",
                "; Account for Integration Services: Domain\\User or system account.\n",
                "\n",
                "ISSVCACCOUNT=\"NT Service\\MsDtsServer150\"\n",
                "\n",
                "; CM brick TCP communication port\n",
                "\n",
                "COMMFABRICPORT=\"0\"\n",
                "\n",
                "; How matrix will use private networks\n",
                "\n",
                "COMMFABRICNETWORKLEVEL=\"0\"\n",
                "\n",
                "; How inter brick communication will be protected\n",
                "\n",
                "COMMFABRICENCRYPTION=\"0\"\n",
                "\n",
                "; TCP port used by the CM brick\n",
                "\n",
                "MATRIXCMBRICKCOMMPORT=\"0\"\n",
                "\n",
                "; Startup type for the SQL Server service.\n",
                "\n",
                "SQLSVCSTARTUPTYPE=\"Automatic\"\n",
                "\n",
                "; Level to enable FILESTREAM feature at (0, 1, 2 or 3).\n",
                "\n",
                "FILESTREAMLEVEL=\"0\"\n",
                "\n",
                "; The max degree of parallelism (MAXDOP) server configuration option.\n",
                "\n",
                "SQLMAXDOP=\"0\"\n",
                "\n",
                "; Set to \"1\" to enable RANU for SQL Server Express.\n",
                "\n",
                "ENABLERANU=\"False\"\n",
                "\n",
                "; Specifies a Windows collation or an SQL collation to use for the Database Engine.\n",
                "\n",
                "SQLCOLLATION=\"SQL_Latin1_General_CP850_CI_AI\"\n",
                "\n",
                "; Account for SQL Server service: Domain\\User or system account.\n",
                "\n",
                "SQLSVCACCOUNT=<strong>\"Dominio\\cuentaServicioSQL\"</strong>\n",
                "\n",
                "; Set to \"True\" to enable instant file initialization for SQL Server service. If enabled, Setup will grant Perform Volume Maintenance Task privilege to the Database Engine Service SID. This may lead to information disclosure as it could allow deleted content to be accessed by an unauthorized principal.\n",
                "\n",
                "SQLSVCINSTANTFILEINIT=\"True\"\n",
                "\n",
                "; Windows account(s) to provision as SQL Server system administrators.\n",
                "\n",
                "SQLSYSADMINACCOUNTS=<strong>\"Dominio\\cuentasyssadm\"</strong>\n",
                "\n",
                "; The default is Windows Authentication. Use \"SQL\" for Mixed Mode Authentication.\n",
                "\n",
                "SECURITYMODE=<strong>\"SQL\"</strong>\n",
                "\n",
                "; The number of Database Engine TempDB files.\n",
                "\n",
                "SQLTEMPDBFILECOUNT=\"8\"\n",
                "\n",
                "; Specifies the initial size of a Database Engine TempDB data file in MB.\n",
                "\n",
                "SQLTEMPDBFILESIZE=\"8\"\n",
                "\n",
                "; Specifies the automatic growth increment of each Database Engine TempDB data file in MB.\n",
                "\n",
                "SQLTEMPDBFILEGROWTH=\"64\"\n",
                "\n",
                "; Specifies the initial size of the Database Engine TempDB log file in MB.\n",
                "\n",
                "SQLTEMPDBLOGFILESIZE=\"8\"\n",
                "\n",
                "; Specifies the automatic growth increment of the Database Engine TempDB log file in MB.\n",
                "\n",
                "SQLTEMPDBLOGFILEGROWTH=\"64\"\n",
                "\n",
                "; Default directory for the Database Engine backup files.\n",
                "\n",
                "SQLBACKUPDIR=<strong>\"E:\\Backups\"</strong>\n",
                "\n",
                "; Default directory for the Database Engine user databases.\n",
                "\n",
                "SQLUSERDBDIR=<strong>\"D:\\BDs\"</strong>\n",
                "\n",
                "; Directories for Database Engine TempDB files.\n",
                "\n",
                "SQLTEMPDBDIR=<strong>\"E:\\Tempdb\"</strong>\n",
                "\n",
                "; Provision current user as a Database Engine system administrator for %SQL_PRODUCT_SHORT_NAME% Express.\n",
                "\n",
                "ADDCURRENTUSERASSQLADMIN=\"False\"\n",
                "\n",
                "; Specify 0 to disable or 1 to enable the TCP/IP protocol.\n",
                "\n",
                "TCPENABLED=\"1\"\n",
                "\n",
                "; Specify 0 to disable or 1 to enable the Named Pipes protocol.\n",
                "\n",
                "NPENABLED=\"0\"\n",
                "\n",
                "; Startup type for Browser Service.\n",
                "\n",
                "BROWSERSVCSTARTUPTYPE=\"Disabled\"\n",
                "\n",
                "; Add description of input argument FTSVCACCOUNT\n",
                "\n",
                "FTSVCACCOUNT=\"NT Service\\MSSQLFDLauncher\"\n",
                "\n",
                "; Use USESQLRECOMMENDEDMEMORYLIMITS to minimize the risk of the OS experiencing detrimental memory pressure.\n",
                "\n",
                "USESQLRECOMMENDEDMEMORYLIMITS=\"True\""
            ],
            "metadata": {
                "azdata_cell_guid": "d6c75dfb-a8d8-4d81-ba7b-60a5e103cf10"
            }
        },
        {
            "cell_type": "markdown",
            "source": [
                "# Instalación de SQL Server desde Powershell\n",
                "\n",
                "## Requerimientos\n",
                "\n",
                "Descargar e instalar las funciones: \n",
                "\n",
                "-   Get-IniContent: [https://gallery.technet.microsoft.com/ea40c1ef-c856-434b-b8fb-ebd7a76e8d91](https://gallery.technet.microsoft.com/ea40c1ef-c856-434b-b8fb-ebd7a76e8d91)\n",
                "-   Out-IniFile: [https://gallery.technet.microsoft.com/7d7c867f-026e-4620-bf32-eca99b4e42f4](https://gallery.technet.microsoft.com/7d7c867f-026e-4620-bf32-eca99b4e42f4)\n",
                "\n",
                "## Preparación\n",
                "\n",
                "Teniendo el ConfigurationFile.ini en el pc particular, no en el servidor:\n",
                "\n",
                "Configurar las rutas y el usuario para levantar los archivos bak"
            ],
            "metadata": {
                "azdata_cell_guid": "c4da489c-34d8-43ee-99bc-edfa73771f7f"
            }
        },
        {
            "cell_type": "code",
            "source": [
                "$IniFile = Get-IniContent -FilePath \"C:\\InisSQL\\ConfigurationFile.ini\"\r\n",
                "\r\n",
                "$IniFile.OPTIONS.SQLUSERDBDIR    = '\"D:\\BDs\"'\r\n",
                "\r\n",
                "$IniFile.OPTIONS.SQLBACKUPDIR    = '\"E:\\Backups\"'\r\n",
                "\r\n",
                "$IniFile.OPTIONS.SQLUSERDBLOGDIR = '\"D:\\BDs\"'\r\n",
                "\r\n",
                "$IniFile.OPTIONS.SQLTEMPDBDIR    = '\"E:\\TempDB\"'\r\n",
                "\r\n",
                "$IniFile | Out-IniFile -FilePath \"C:\\InisSQL\\Resultado.ini\" -Force\r\n",
                "\r\n",
                "[string]$usuario = Read-Host -Prompt \"Ingrese el nombre de usuario\"\r\n",
                "$passdo = Read-Host -Prompt \"Ingrese la contraseña del usuario\" -AsSecureString\r\n",
                "$credo = New-Object -TypeName System.Management.Automation.PSCredential ($usuario, $passdo)\r\n",
                "\r\n",
                "Invoke-Command -ComputerName \"SQLTESTDBA\" -Credential $credo -ScriptBlock{ `\r\n",
                "\r\n",
                "                                New-Item -Path 'D:\\BDs' -ItemType \"directory\" \r\n",
                "\r\n",
                "                                New-Item -Path 'E:\\Backups' -ItemType \"directory\"\r\n",
                "\r\n",
                "                                New-Item -Path 'E:\\Backups\\Diario' -ItemType \"directory\"\r\n",
                "\r\n",
                "                                New-Item -Path 'E:\\Tempdb' -ItemType \"directory\"\r\n",
                "\r\n",
                "                               New-SmbShare -Name \"Diario\" -Path \"E:\\Backups\\Diario\" -FullAccess \"dominio\\bkpsuser\" }\r\n",
                "\r\n",
                "New-PSDrive -Name SQLremoto -PSProvider FileSystem -Root \"\\\\SQLTESTDBA\\e$\" -Credential $credo\r\n",
                "Copy-Item -Path \"C:\\InisSQL\\Resultado.ini\" -Destination \"SQLremoto:\""
            ],
            "metadata": {
                "azdata_cell_guid": "8bc1b62c-7d62-448e-abf1-d4d2662fcd36",
                "tags": []
            },
            "outputs": [],
            "execution_count": null
        },
        {
            "cell_type": "markdown",
            "source": [
                "## Instalación\n",
                "\n",
                "En el servidor"
            ],
            "metadata": {
                "azdata_cell_guid": "cdb5b479-f50d-47cb-a0c0-075d2c268381"
            }
        },
        {
            "cell_type": "code",
            "source": [
                "$ArgumentList =  @()\r\n",
                "$ArgumentList += '/PID=\"Licencia SQL\"'\r\n",
                "$ArgumentList += '/SAPWD=\"Escribir la contraseña\"'\r\n",
                "$ArgumentList += '/SQLSYSADMINACCOUNTS=\"dominio\\cuentasysadm\"'\r\n",
                "$ArgumentList += '/SQLSVCPASSWORD=\"**********\"'\r\n",
                "$ArgumentList += '/AGTSVCPASSWORD=\"***********\"'\r\n",
                "$ArgumentList += '/ConfigurationFile=\"E:\\Resultado.ini\"'\r\n",
                "$ArgumentList += '/IAcceptSqlServerLicenseTerms'\r\n",
                "Start-Process  -FilePath \"d:\\setup.exe\" -ArgumentList $ArgumentList -Wait"
            ],
            "metadata": {
                "azdata_cell_guid": "ece4b948-8cdf-463f-a25a-1d0cdccdb723"
            },
            "outputs": [],
            "execution_count": null
        },
        {
            "cell_type": "markdown",
            "source": [
                "#  Configurar SPN\n",
                "\n",
                "Teniendo el módulo dbatools se configura el SPN."
            ],
            "metadata": {
                "azdata_cell_guid": "40572dbb-175f-4daa-a077-92ef38b39cac"
            }
        },
        {
            "cell_type": "code",
            "source": [
                "Set-DbaSpn -SPN MSSQLSvc/SQLSERVER.do.scba.gov.ar -ServiceAccount dominio\\cuentaservicioSQL -Credential $credo"
            ],
            "metadata": {
                "azdata_cell_guid": "ef9726ab-6d1c-45d0-9c38-538157525bf5"
            },
            "outputs": [],
            "execution_count": null
        },
        {
            "cell_type": "markdown",
            "source": [
                "# Habilitar Compresión de  Backups\n",
                "\n",
                "Teniendo el módulo dbatools, primero crear la credencial para loguearse a la instancia, luego habilitar la compresión.\n",
                "\n",
                "Finalmente, se comprueba el cambio."
            ],
            "metadata": {
                "azdata_cell_guid": "9cefdd8e-6e42-4945-b13e-3eea81cacfe8"
            }
        },
        {
            "cell_type": "code",
            "source": [
                "[string]$usuario = Read-Host -Prompt \"Ingrese el nombre de usuario\"\r\n",
                "$passdo = Read-Host -Prompt \"Ingrese la contraseña del usuario\" -AsSecureString\r\n",
                "$credo = New-Object -TypeName System.Management.Automation.PSCredential ($usuario, $passdo)\r\n",
                "\r\n",
                "\r\n",
                "Set-DbaSpConfigure -SqlInstance VMTestDBA -SqlCredential $credential -Name 'backup compression default' -Value 1\r\n",
                "Get-DbaSpConfigure -SqlInstance vmtestdba -SqlCredential $credential -Name 'backup compression default' | Select-Object displayName, RunningValue |Format-Table"
            ],
            "metadata": {
                "azdata_cell_guid": "c5f3246f-a343-47b6-9e83-4ce89bbb6a50",
                "tags": []
            },
            "outputs": [],
            "execution_count": null
        },
        {
            "cell_type": "markdown",
            "source": [
                "# Crear un nuevo Login SQL SYSADMIN y deshabilitar SA"
            ],
            "metadata": {
                "azdata_cell_guid": "59f63e01-7c55-43e2-9fc2-f6187b81965c"
            }
        },
        {
            "cell_type": "code",
            "source": [
                "$usersql = Read-Host \"Ingrese nombre del usuario SQL\"\r\n",
                "$securePassword = Read-Host \"Ingrese la contraseñe\" -AsSecureString\r\n",
                "New-DbaLogin -SqlInstance $SqlInstance -SqlCredential $credential -Login $usersql -SecurePassword $securePassword -Force\r\n",
                "Invoke-DbaQuery  -SqlInstance $SqlInstance -SqlCredential $credential -File \"C:\\InstalacionSqlServer\\HandlingSA.sql\" \r\n",
                "$credusersql = New-Object -TypeName System.Management.Automation.PSCredential ($usuario, $securePassword)"
            ],
            "metadata": {
                "azdata_cell_guid": "d3be379e-204f-4fdd-8c35-c78078016a95"
            },
            "outputs": [],
            "execution_count": null
        },
        {
            "cell_type": "markdown",
            "source": [
                "# Preparar los SP para el Plan de Mantenimiento\n",
                "\n",
                "También usando dbatools. Luego está la comprobación."
            ],
            "metadata": {
                "azdata_cell_guid": "ba9846b4-01c7-4047-800f-4c6a2c5de300"
            }
        },
        {
            "cell_type": "code",
            "source": [
                "Invoke-DbaQuery  -SqlInstance vmtestdba -SqlCredential $credusersql -File \"C:\\InstalacionSQLServer\\PMSolucionParametrizada.sql\"\r\n",
                "Invoke-DbaQuery  -SqlInstance vmtestdba -SqlCredential $credusersql -Query \"Select name from sys.procedures\""
            ],
            "metadata": {
                "azdata_cell_guid": "9bd56e09-04bd-401b-a5b1-94ee3f2e642b"
            },
            "outputs": [],
            "execution_count": null
        },
        {
            "cell_type": "markdown",
            "source": [
                "# Configurar DataBaseMail y Operador"
            ],
            "metadata": {
                "azdata_cell_guid": "206e41c7-1e60-4648-9a66-a6ae4a24298b"
            }
        },
        {
            "cell_type": "code",
            "source": [
                "Invoke-DbaQuery  -SqlInstance $SqlInstance -SqlCredential $credusersql -File \"C:\\InstalacionSQLServer\\DatabaseMailYOperadorConfiguracion.sql\""
            ],
            "metadata": {
                "azdata_cell_guid": "ec85e004-7342-4588-8267-a71685fcc65e"
            },
            "outputs": [],
            "execution_count": null
        }
    ]
}